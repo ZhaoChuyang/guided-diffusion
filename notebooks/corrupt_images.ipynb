{
 "cells": [
  {
   "cell_type": "code",
   "execution_count": null,
   "metadata": {},
   "outputs": [
    {
     "name": "stderr",
     "output_type": "stream",
     "text": [
      "/home/zhaochuyang/anaconda3/envs/py38/lib/python3.8/site-packages/tqdm/auto.py:22: TqdmWarning: IProgress not found. Please update jupyter and ipywidgets. See https://ipywidgets.readthedocs.io/en/stable/user_install.html\n",
      "  from .autonotebook import tqdm as notebook_tqdm\n"
     ]
    }
   ],
   "source": [
    "import os\n",
    "import cv2\n",
    "import random\n",
    "import numpy as np\n",
    "import matplotlib.pyplot as plt\n",
    "import torch\n",
    "import math"
   ]
  },
  {
   "cell_type": "code",
   "execution_count": null,
   "metadata": {},
   "outputs": [],
   "source": [
    "PACS_DIR = \"/home/chuyang/Workspace/data/PACS\""
   ]
  },
  {
   "cell_type": "code",
   "execution_count": null,
   "metadata": {},
   "outputs": [
    {
     "ename": "",
     "evalue": "",
     "output_type": "error",
     "traceback": [
      "\u001b[1;31mRunning cells with 'Python 3.8.13 ('py38')' requires ipykernel package.\n",
      "\u001b[1;31mRun the following command to install 'ipykernel' into the Python environment. \n",
      "\u001b[1;31mCommand: 'conda install -n py38 ipykernel --update-deps --force-reinstall'"
     ]
    }
   ],
   "source": [
    "image_paths = []\n",
    "\n",
    "for root, dirs, files in os.walk(PACS_DIR):\n",
    "    for filename in files:\n",
    "        path = os.path.join(root, filename)\n",
    "        if path.lower().endswith((\"jpg\", \"png\", \"jpeg\", \"bmp\")):\n",
    "            image_paths.append(path)\n",
    "\n",
    "print(\"Total images: {}\".format(len(image_paths)))"
   ]
  },
  {
   "cell_type": "code",
   "execution_count": null,
   "metadata": {},
   "outputs": [],
   "source": [
    "def extract(a, t, x_shape):\n",
    "    b, *_ = t.shape\n",
    "    out = a.gather(-1, t)\n",
    "    return out.reshape(b, *((1,) * (len(x_shape) - 1)))\n",
    "\n",
    "\n",
    "def cosine_beta_schedule(timesteps, s = 0.008):\n",
    "    \"\"\"\n",
    "    cosine schedule\n",
    "    as proposed in https://openreview.net/forum?id=-NEXDKk8gZ\n",
    "    \"\"\"\n",
    "    steps = timesteps + 1\n",
    "    x = torch.linspace(0, timesteps, steps, dtype = torch.float64)\n",
    "    alphas_cumprod = torch.cos(((x / timesteps) + s) / (1 + s) * math.pi * 0.5) ** 2\n",
    "    alphas_cumprod = alphas_cumprod / alphas_cumprod[0]\n",
    "    betas = 1 - (alphas_cumprod[1:] / alphas_cumprod[:-1])\n",
    "    return torch.clip(betas, 0, 0.999)\n",
    "\n",
    "\n",
    "def linear_beta_schedule(timesteps):\n",
    "    scale = 1000 / timesteps\n",
    "    beta_start = scale * 0.0001\n",
    "    beta_end = scale * 0.02\n",
    "    return torch.linspace(beta_start, beta_end, timesteps, dtype = torch.float64)\n",
    "\n",
    "\n",
    "betas = linear_beta_schedule(timesteps)\n",
    "alphas = 1. - betas\n",
    "alphas_cumprod = torch.cumprod(alphas, dim=0)\n",
    "sqrt_alphas_cumprod = torch.sqrt(alphas_cumprod)\n",
    "sqrt_one_minus_alphas_cumprod = torch.sqrt(1. - alphas_cumprod)\n",
    "\n",
    "\n",
    "def add_noise(image, n_times):\n",
    "    n_times = torch.as_tensor([n_times])\n",
    "    timesteps = 1000\n",
    "    noise = torch.randn_like(image)\n",
    "    noisy_image = extract(sqrt_alphas_cumprod, n_times, image.shape) * image + \\\n",
    "            extract(sqrt_one_minus_alphas_cumprod, n_times, image.shape) * noise\n",
    "    return noisy_image\n",
    "\n",
    "\n",
    "def convert_tensor_to_image(input):\n",
    "    image = input.cpu().numpy()\n",
    "    # image = np.transpose(image, (1, 2, 0))\n",
    "    # image = (image - image.min()) / (image.max() - image.min())\n",
    "    image = np.uint8(np.clip(image * 255, 0, 255))\n",
    "    return image"
   ]
  },
  {
   "cell_type": "code",
   "execution_count": null,
   "metadata": {},
   "outputs": [],
   "source": [
    "N = 4\n",
    "random.shuffle(image_paths)\n",
    "for i in range(N):\n",
    "    image = cv2.imread(image_paths[i])\n",
    "    image = cv2.cvtColor(image, cv2.COLOR_BGR2RGB)\n",
    "    # print(image.shape)\n",
    "    plt.figure()\n",
    "    plt.imshow(image)\n",
    "\n",
    "    # z-score normalization\n",
    "    mean = np.mean(image, axis=(0, 1))\n",
    "    std = np.std(image, axis=(0, 1))\n",
    "    image = (image - mean) / std\n",
    "\n",
    "    image = add_noise(image, 100)\n",
    "    image = convert_tensor_to_image(image)\n",
    "\n",
    "    # unnormalize to range 0-1\n",
    "    image = (image - image.min()) / (image.max() - image.min())\n",
    "    plt.figure()\n",
    "    plt.imshow(image)\n",
    "    "
   ]
  }
 ],
 "metadata": {
  "kernelspec": {
   "display_name": "Python 3.8.13 ('py38')",
   "language": "python",
   "name": "python3"
  },
  "language_info": {
   "codemirror_mode": {
    "name": "ipython",
    "version": 3
   },
   "file_extension": ".py",
   "mimetype": "text/x-python",
   "name": "python",
   "nbconvert_exporter": "python",
   "pygments_lexer": "ipython3",
   "version": "3.8.13"
  },
  "orig_nbformat": 4,
  "vscode": {
   "interpreter": {
    "hash": "717647d0557db593d964b07715813f074dcc9aa9dc4fb1ff57c27334ee9159b2"
   }
  }
 },
 "nbformat": 4,
 "nbformat_minor": 2
}
